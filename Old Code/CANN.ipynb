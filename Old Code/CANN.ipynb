{
 "cells": [
  {
   "cell_type": "code",
   "execution_count": 19,
   "id": "b99a74d1-5712-4b16-8127-1104a4223405",
   "metadata": {},
   "outputs": [],
   "source": [
    "import matplotlib.pyplot as plt\n",
    "import matplotlib.gridspec as gridspec\n",
    "import numpy as np\n",
    "import json\n",
    "import pandas as pd\n",
    "import os \n",
    "from sklearn.metrics import r2_score # importing the regression model for plotting\n",
    "import torch\n",
    "\n",
    "import torch\n",
    "import torch.nn as nn \n",
    "import torch.nn.functional as F # equivalent of keras.backend as k \n",
    "import torch.autograd as autograd "
   ]
  },
  {
   "cell_type": "code",
   "execution_count": 20,
   "id": "f36f766d-b5ba-460b-9577-a037f6bca907",
   "metadata": {},
   "outputs": [],
   "source": [
    "def compute_invariants_uniaxial(lam): \n",
    "    # computes I1 and I2 for uniaxial tension/compression given stretch lambda\n",
    "    # assumes incompressibility: lambda_2 = lambda_3 = lambda^(-1/2)\n",
    "\n",
    "    I1 = lam**2 + 2 / lam \n",
    "    I2 = 2 * lam + 1 / lam**2\n",
    "    return I1, I2\n",
    "\n",
    "def dI1_dlam(lam):\n",
    "    # dI1/d_lambda = 2_lambda - 2/(lambda^2)\n",
    "    return 2 * lam - 2 / lam**2\n",
    "\n",
    "def dI2_dlam(lam):\n",
    "    # dI2/d_lambda = 2 - 2/lambda^3\n",
    "    return 2 - 2 / lam**3\n",
    "\n",
    "def compute_stress_uniaxial(lam, dPsi_dI1, dPsi_dI2): # note that the derivaties are passed later \n",
    "    # as a separate function they are calculated using autograd\n",
    "    # Computes nominal stress P11 in uniaxial loading\n",
    "    return 2 * (dPsi_dI1 + dPsi_dI2 / lam) * (lam - 1 / lam**2)\n",
    "\n",
    "def compute_invariants_shear(gamma):\n",
    "    # this is an invariant for simple shear: I1 = I2 = 3+gamma^2\n",
    "    I1 = 3 + gamma**2\n",
    "    I2 = 3 + gamma**2\n",
    "    return I1, I2\n",
    "\n",
    "def compute_stress_shear(gamma, dPsi_dI1, dPsi_dI2):\n",
    "    # Compute nominal shear stress p12 in simple shear\n",
    "    return  2 * gamma * (dPsi_dI1 + dPsi_dI2)"
   ]
  },
  {
   "cell_type": "code",
   "execution_count": 21,
   "id": "fe7422fc-01fe-49d9-b963-d9ed92fb8efd",
   "metadata": {},
   "outputs": [
    {
     "ename": "ImportError",
     "evalue": "Missing optional dependency 'openpyxl'.  Use pip or conda to install openpyxl.",
     "output_type": "error",
     "traceback": [
      "\u001b[0;31m---------------------------------------------------------------------------\u001b[0m",
      "\u001b[0;31mModuleNotFoundError\u001b[0m                       Traceback (most recent call last)",
      "File \u001b[0;32m/Library/Frameworks/Python.framework/Versions/3.12/lib/python3.12/site-packages/pandas/compat/_optional.py:135\u001b[0m, in \u001b[0;36mimport_optional_dependency\u001b[0;34m(name, extra, errors, min_version)\u001b[0m\n\u001b[1;32m    134\u001b[0m \u001b[38;5;28;01mtry\u001b[39;00m:\n\u001b[0;32m--> 135\u001b[0m     module \u001b[38;5;241m=\u001b[39m \u001b[43mimportlib\u001b[49m\u001b[38;5;241;43m.\u001b[39;49m\u001b[43mimport_module\u001b[49m\u001b[43m(\u001b[49m\u001b[43mname\u001b[49m\u001b[43m)\u001b[49m\n\u001b[1;32m    136\u001b[0m \u001b[38;5;28;01mexcept\u001b[39;00m \u001b[38;5;167;01mImportError\u001b[39;00m:\n",
      "File \u001b[0;32m/Library/Frameworks/Python.framework/Versions/3.12/lib/python3.12/importlib/__init__.py:90\u001b[0m, in \u001b[0;36mimport_module\u001b[0;34m(name, package)\u001b[0m\n\u001b[1;32m     89\u001b[0m         level \u001b[38;5;241m+\u001b[39m\u001b[38;5;241m=\u001b[39m \u001b[38;5;241m1\u001b[39m\n\u001b[0;32m---> 90\u001b[0m \u001b[38;5;28;01mreturn\u001b[39;00m \u001b[43m_bootstrap\u001b[49m\u001b[38;5;241;43m.\u001b[39;49m\u001b[43m_gcd_import\u001b[49m\u001b[43m(\u001b[49m\u001b[43mname\u001b[49m\u001b[43m[\u001b[49m\u001b[43mlevel\u001b[49m\u001b[43m:\u001b[49m\u001b[43m]\u001b[49m\u001b[43m,\u001b[49m\u001b[43m \u001b[49m\u001b[43mpackage\u001b[49m\u001b[43m,\u001b[49m\u001b[43m \u001b[49m\u001b[43mlevel\u001b[49m\u001b[43m)\u001b[49m\n",
      "File \u001b[0;32m<frozen importlib._bootstrap>:1387\u001b[0m, in \u001b[0;36m_gcd_import\u001b[0;34m(name, package, level)\u001b[0m\n",
      "File \u001b[0;32m<frozen importlib._bootstrap>:1360\u001b[0m, in \u001b[0;36m_find_and_load\u001b[0;34m(name, import_)\u001b[0m\n",
      "File \u001b[0;32m<frozen importlib._bootstrap>:1324\u001b[0m, in \u001b[0;36m_find_and_load_unlocked\u001b[0;34m(name, import_)\u001b[0m\n",
      "\u001b[0;31mModuleNotFoundError\u001b[0m: No module named 'openpyxl'",
      "\nDuring handling of the above exception, another exception occurred:\n",
      "\u001b[0;31mImportError\u001b[0m                               Traceback (most recent call last)",
      "Cell \u001b[0;32mIn[21], line 5\u001b[0m\n\u001b[1;32m      2\u001b[0m file_name \u001b[38;5;241m=\u001b[39m \u001b[38;5;124m'\u001b[39m\u001b[38;5;124minput/CANNsBRAINdata.xlsx\u001b[39m\u001b[38;5;124m'\u001b[39m\n\u001b[1;32m      3\u001b[0m \u001b[38;5;66;03m# dfs = pd.read_excel(file_name, sheet_name='Sheet1')\u001b[39;00m\n\u001b[1;32m      4\u001b[0m \u001b[38;5;66;03m# Might need to install openpyxl to open excel files\u001b[39;00m\n\u001b[0;32m----> 5\u001b[0m dfs \u001b[38;5;241m=\u001b[39m \u001b[43mpd\u001b[49m\u001b[38;5;241;43m.\u001b[39;49m\u001b[43mread_excel\u001b[49m\u001b[43m(\u001b[49m\u001b[43mfile_name\u001b[49m\u001b[43m,\u001b[49m\u001b[43m \u001b[49m\u001b[43msheet_name\u001b[49m\u001b[38;5;241;43m=\u001b[39;49m\u001b[38;5;124;43m'\u001b[39;49m\u001b[38;5;124;43mSheet1\u001b[39;49m\u001b[38;5;124;43m'\u001b[39;49m\u001b[43m,\u001b[49m\u001b[43mengine\u001b[49m\u001b[38;5;241;43m=\u001b[39;49m\u001b[38;5;124;43m'\u001b[39;49m\u001b[38;5;124;43mopenpyxl\u001b[39;49m\u001b[38;5;124;43m'\u001b[39;49m\u001b[43m)\u001b[49m\n\u001b[1;32m      6\u001b[0m \u001b[38;5;66;03m# Load data for different brain regions\u001b[39;00m\n\u001b[1;32m      7\u001b[0m \u001b[38;5;28;01mdef\u001b[39;00m \u001b[38;5;21mgetStressStrain\u001b[39m(Region):\n",
      "File \u001b[0;32m/Library/Frameworks/Python.framework/Versions/3.12/lib/python3.12/site-packages/pandas/io/excel/_base.py:495\u001b[0m, in \u001b[0;36mread_excel\u001b[0;34m(io, sheet_name, header, names, index_col, usecols, dtype, engine, converters, true_values, false_values, skiprows, nrows, na_values, keep_default_na, na_filter, verbose, parse_dates, date_parser, date_format, thousands, decimal, comment, skipfooter, storage_options, dtype_backend, engine_kwargs)\u001b[0m\n\u001b[1;32m    493\u001b[0m \u001b[38;5;28;01mif\u001b[39;00m \u001b[38;5;129;01mnot\u001b[39;00m \u001b[38;5;28misinstance\u001b[39m(io, ExcelFile):\n\u001b[1;32m    494\u001b[0m     should_close \u001b[38;5;241m=\u001b[39m \u001b[38;5;28;01mTrue\u001b[39;00m\n\u001b[0;32m--> 495\u001b[0m     io \u001b[38;5;241m=\u001b[39m \u001b[43mExcelFile\u001b[49m\u001b[43m(\u001b[49m\n\u001b[1;32m    496\u001b[0m \u001b[43m        \u001b[49m\u001b[43mio\u001b[49m\u001b[43m,\u001b[49m\n\u001b[1;32m    497\u001b[0m \u001b[43m        \u001b[49m\u001b[43mstorage_options\u001b[49m\u001b[38;5;241;43m=\u001b[39;49m\u001b[43mstorage_options\u001b[49m\u001b[43m,\u001b[49m\n\u001b[1;32m    498\u001b[0m \u001b[43m        \u001b[49m\u001b[43mengine\u001b[49m\u001b[38;5;241;43m=\u001b[39;49m\u001b[43mengine\u001b[49m\u001b[43m,\u001b[49m\n\u001b[1;32m    499\u001b[0m \u001b[43m        \u001b[49m\u001b[43mengine_kwargs\u001b[49m\u001b[38;5;241;43m=\u001b[39;49m\u001b[43mengine_kwargs\u001b[49m\u001b[43m,\u001b[49m\n\u001b[1;32m    500\u001b[0m \u001b[43m    \u001b[49m\u001b[43m)\u001b[49m\n\u001b[1;32m    501\u001b[0m \u001b[38;5;28;01melif\u001b[39;00m engine \u001b[38;5;129;01mand\u001b[39;00m engine \u001b[38;5;241m!=\u001b[39m io\u001b[38;5;241m.\u001b[39mengine:\n\u001b[1;32m    502\u001b[0m     \u001b[38;5;28;01mraise\u001b[39;00m \u001b[38;5;167;01mValueError\u001b[39;00m(\n\u001b[1;32m    503\u001b[0m         \u001b[38;5;124m\"\u001b[39m\u001b[38;5;124mEngine should not be specified when passing \u001b[39m\u001b[38;5;124m\"\u001b[39m\n\u001b[1;32m    504\u001b[0m         \u001b[38;5;124m\"\u001b[39m\u001b[38;5;124man ExcelFile - ExcelFile already has the engine set\u001b[39m\u001b[38;5;124m\"\u001b[39m\n\u001b[1;32m    505\u001b[0m     )\n",
      "File \u001b[0;32m/Library/Frameworks/Python.framework/Versions/3.12/lib/python3.12/site-packages/pandas/io/excel/_base.py:1567\u001b[0m, in \u001b[0;36mExcelFile.__init__\u001b[0;34m(self, path_or_buffer, engine, storage_options, engine_kwargs)\u001b[0m\n\u001b[1;32m   1564\u001b[0m \u001b[38;5;28mself\u001b[39m\u001b[38;5;241m.\u001b[39mengine \u001b[38;5;241m=\u001b[39m engine\n\u001b[1;32m   1565\u001b[0m \u001b[38;5;28mself\u001b[39m\u001b[38;5;241m.\u001b[39mstorage_options \u001b[38;5;241m=\u001b[39m storage_options\n\u001b[0;32m-> 1567\u001b[0m \u001b[38;5;28mself\u001b[39m\u001b[38;5;241m.\u001b[39m_reader \u001b[38;5;241m=\u001b[39m \u001b[38;5;28;43mself\u001b[39;49m\u001b[38;5;241;43m.\u001b[39;49m\u001b[43m_engines\u001b[49m\u001b[43m[\u001b[49m\u001b[43mengine\u001b[49m\u001b[43m]\u001b[49m\u001b[43m(\u001b[49m\n\u001b[1;32m   1568\u001b[0m \u001b[43m    \u001b[49m\u001b[38;5;28;43mself\u001b[39;49m\u001b[38;5;241;43m.\u001b[39;49m\u001b[43m_io\u001b[49m\u001b[43m,\u001b[49m\n\u001b[1;32m   1569\u001b[0m \u001b[43m    \u001b[49m\u001b[43mstorage_options\u001b[49m\u001b[38;5;241;43m=\u001b[39;49m\u001b[43mstorage_options\u001b[49m\u001b[43m,\u001b[49m\n\u001b[1;32m   1570\u001b[0m \u001b[43m    \u001b[49m\u001b[43mengine_kwargs\u001b[49m\u001b[38;5;241;43m=\u001b[39;49m\u001b[43mengine_kwargs\u001b[49m\u001b[43m,\u001b[49m\n\u001b[1;32m   1571\u001b[0m \u001b[43m\u001b[49m\u001b[43m)\u001b[49m\n",
      "File \u001b[0;32m/Library/Frameworks/Python.framework/Versions/3.12/lib/python3.12/site-packages/pandas/io/excel/_openpyxl.py:552\u001b[0m, in \u001b[0;36mOpenpyxlReader.__init__\u001b[0;34m(self, filepath_or_buffer, storage_options, engine_kwargs)\u001b[0m\n\u001b[1;32m    534\u001b[0m \u001b[38;5;129m@doc\u001b[39m(storage_options\u001b[38;5;241m=\u001b[39m_shared_docs[\u001b[38;5;124m\"\u001b[39m\u001b[38;5;124mstorage_options\u001b[39m\u001b[38;5;124m\"\u001b[39m])\n\u001b[1;32m    535\u001b[0m \u001b[38;5;28;01mdef\u001b[39;00m \u001b[38;5;21m__init__\u001b[39m(\n\u001b[1;32m    536\u001b[0m     \u001b[38;5;28mself\u001b[39m,\n\u001b[0;32m   (...)\u001b[0m\n\u001b[1;32m    539\u001b[0m     engine_kwargs: \u001b[38;5;28mdict\u001b[39m \u001b[38;5;241m|\u001b[39m \u001b[38;5;28;01mNone\u001b[39;00m \u001b[38;5;241m=\u001b[39m \u001b[38;5;28;01mNone\u001b[39;00m,\n\u001b[1;32m    540\u001b[0m ) \u001b[38;5;241m-\u001b[39m\u001b[38;5;241m>\u001b[39m \u001b[38;5;28;01mNone\u001b[39;00m:\n\u001b[1;32m    541\u001b[0m \u001b[38;5;250m    \u001b[39m\u001b[38;5;124;03m\"\"\"\u001b[39;00m\n\u001b[1;32m    542\u001b[0m \u001b[38;5;124;03m    Reader using openpyxl engine.\u001b[39;00m\n\u001b[1;32m    543\u001b[0m \n\u001b[0;32m   (...)\u001b[0m\n\u001b[1;32m    550\u001b[0m \u001b[38;5;124;03m        Arbitrary keyword arguments passed to excel engine.\u001b[39;00m\n\u001b[1;32m    551\u001b[0m \u001b[38;5;124;03m    \"\"\"\u001b[39;00m\n\u001b[0;32m--> 552\u001b[0m     \u001b[43mimport_optional_dependency\u001b[49m\u001b[43m(\u001b[49m\u001b[38;5;124;43m\"\u001b[39;49m\u001b[38;5;124;43mopenpyxl\u001b[39;49m\u001b[38;5;124;43m\"\u001b[39;49m\u001b[43m)\u001b[49m\n\u001b[1;32m    553\u001b[0m     \u001b[38;5;28msuper\u001b[39m()\u001b[38;5;241m.\u001b[39m\u001b[38;5;21m__init__\u001b[39m(\n\u001b[1;32m    554\u001b[0m         filepath_or_buffer,\n\u001b[1;32m    555\u001b[0m         storage_options\u001b[38;5;241m=\u001b[39mstorage_options,\n\u001b[1;32m    556\u001b[0m         engine_kwargs\u001b[38;5;241m=\u001b[39mengine_kwargs,\n\u001b[1;32m    557\u001b[0m     )\n",
      "File \u001b[0;32m/Library/Frameworks/Python.framework/Versions/3.12/lib/python3.12/site-packages/pandas/compat/_optional.py:138\u001b[0m, in \u001b[0;36mimport_optional_dependency\u001b[0;34m(name, extra, errors, min_version)\u001b[0m\n\u001b[1;32m    136\u001b[0m \u001b[38;5;28;01mexcept\u001b[39;00m \u001b[38;5;167;01mImportError\u001b[39;00m:\n\u001b[1;32m    137\u001b[0m     \u001b[38;5;28;01mif\u001b[39;00m errors \u001b[38;5;241m==\u001b[39m \u001b[38;5;124m\"\u001b[39m\u001b[38;5;124mraise\u001b[39m\u001b[38;5;124m\"\u001b[39m:\n\u001b[0;32m--> 138\u001b[0m         \u001b[38;5;28;01mraise\u001b[39;00m \u001b[38;5;167;01mImportError\u001b[39;00m(msg)\n\u001b[1;32m    139\u001b[0m     \u001b[38;5;28;01mreturn\u001b[39;00m \u001b[38;5;28;01mNone\u001b[39;00m\n\u001b[1;32m    141\u001b[0m \u001b[38;5;66;03m# Handle submodules: if we have submodule, grab parent module from sys.modules\u001b[39;00m\n",
      "\u001b[0;31mImportError\u001b[0m: Missing optional dependency 'openpyxl'.  Use pip or conda to install openpyxl."
     ]
    }
   ],
   "source": [
    "#Import excel file\n",
    "file_name = 'input/CANNsBRAINdata.xlsx'\n",
    "# dfs = pd.read_excel(file_name, sheet_name='Sheet1')\n",
    "# Might need to install openpyxl to open excel files\n",
    "dfs = pd.read_excel(file_name, sheet_name='Sheet1',engine='openpyxl')\n",
    "# Load data for different brain regions\n",
    "def getStressStrain(Region):\n",
    "    if Region =='CX':\n",
    "        P_ut = dfs.iloc[3:,1].dropna().astype(np.float64)\n",
    "        lam_ut = dfs.iloc[3:,0].dropna().astype(np.float64)\n",
    "        P_ss = dfs.iloc[3:,3].dropna().astype(np.float64).values\n",
    "        gamma_ss = dfs.iloc[3:,2].dropna().astype(np.float64).values\n",
    "    elif Region =='CR':\n",
    "        P_ut = dfs.iloc[3:,6].dropna().astype(np.float64)\n",
    "        lam_ut = dfs.iloc[3:,5].dropna().astype(np.float64)\n",
    "        P_ss = dfs.iloc[3:,8].dropna().astype(np.float64).values\n",
    "        gamma_ss = dfs.iloc[3:,7].dropna().astype(np.float64).values\n",
    "    elif Region =='BG':\n",
    "        P_ut = dfs.iloc[3:,11].dropna().astype(np.float64)\n",
    "        lam_ut = dfs.iloc[3:,10].dropna().astype(np.float64)\n",
    "        P_ss = dfs.iloc[3:,13].dropna().astype(np.float64).values\n",
    "        gamma_ss = dfs.iloc[3:,12].dropna().astype(np.float64).values\n",
    "    elif Region =='CC':\n",
    "        P_ut = dfs.iloc[3:,16].dropna().astype(np.float64)\n",
    "        lam_ut = dfs.iloc[3:,15].dropna().astype(np.float64)\n",
    "        P_ss = dfs.iloc[3:,18].dropna().astype(np.float64).values\n",
    "        gamma_ss = dfs.iloc[3:,17].dropna().astype(np.float64).values\n",
    "        P_ut_all =P_ut\n",
    "        lam_ut_all =lam_ut\n",
    "    return P_ut_all, lam_ut_all, P_ut, lam_ut, P_ss, gamma_ss"
   ]
  },
  {
   "cell_type": "code",
   "execution_count": 22,
   "id": "455597b2-dab4-4849-8096-43d56d72839b",
   "metadata": {},
   "outputs": [],
   "source": [
    "# Define different loading protocols\n",
    "def traindata(modelFit_mode):\n",
    "    weighing_TC = np.array([0.5]*lam_ut[:16].shape[0] + \n",
    "                           [1.5]*lam_ut[16:].shape[0])  # weigh tension/compression differently\n",
    "\n",
    "    if modelFit_mode == 'T':\n",
    "        model_given = model_UT\n",
    "        input_train = lam_ut[16:]\n",
    "        output_train = P_ut[16:]\n",
    "        sample_weights = np.array([1.0]*input_train.shape[0])\n",
    "\n",
    "    elif modelFit_mode == \"C\":\n",
    "        model_given = model_UT\n",
    "        input_train = lam_ut[:17]\n",
    "        output_train = P_ut[:17]\n",
    "        sample_weights = np.array([1.0]*input_train.shape[0])\n",
    "\n",
    "    elif modelFit_mode == \"SS\":\n",
    "        model_given = model_SS\n",
    "        input_train = gamma_ss\n",
    "        output_train = P_ss\n",
    "        sample_weights = np.array([1.0]*input_train.shape[0])\n",
    "\n",
    "    elif modelFit_mode == \"TC_and_SS\":\n",
    "        model_given = model\n",
    "        input_train = [[lam_ut], [gamma_ss]]\n",
    "        output_train = [[P_ut], [P_ss]]\n",
    "        sample_weights_tc = weighing_TC\n",
    "        sample_weights_ss = np.array([1.0]*gamma_ss.shape[0])\n",
    "        sample_weights = [[sample_weights_tc], [sample_weights_ss]]\n",
    "\n",
    "    return model_given, input_train, output_train, sample_weights"
   ]
  },
  {
   "cell_type": "code",
   "execution_count": 23,
   "id": "ee4e2874-95fe-4cc4-af13-b347d93c9907",
   "metadata": {},
   "outputs": [],
   "source": [
    "# The part below is a NN for the invariant based model  psi = psi(I1, I2)\n",
    "\n",
    "# in the underformed configuration I1 = 3 and I2 = 3, therefore for the function they are passed as I-3\n",
    "\n",
    "# I think they are using Neo-Hookean"
   ]
  },
  {
   "cell_type": "code",
   "execution_count": 24,
   "id": "1c8f4db1-0aac-4ea6-bd77-01bde25d4706",
   "metadata": {},
   "outputs": [],
   "source": [
    "def activation_exp(x):\n",
    "    return torch.exp(x) - 1.0\n",
    "    \n",
    "def activation_ln(x):\n",
    "    return -1.0 * torch.log(1.0 - x + 1e-7)"
   ]
  },
  {
   "cell_type": "code",
   "execution_count": 25,
   "id": "487ffda6-2c65-42ec-989b-dea24b833117",
   "metadata": {},
   "outputs": [],
   "source": [
    "class SingleInvNet(nn.Module):\n",
    "    def __init__(self, L2=0.0):\n",
    "        super(SingleInvNet, self).__init__()\n",
    "        self.linear_1 = nn.Linear(1, 1, bias = False)\n",
    "        self.linear_2 = nn.Linear(1, 1, bias = False)\n",
    "        self.linear_3 = nn.Linear(1, 1, bias = False)\n",
    "\n",
    "        self.linear_4 = nn.Linear(1, 1, bias = False)\n",
    "        self.linear_5 = nn.Linear(1, 1, bias = False)\n",
    "        self.linear_6 = nn.Linear(1, 1, bias = False)\n",
    "\n",
    "        #enforce non-negative weights \n",
    "        for layer in [self.linear_1, self.linear_2, self.linear_3, self.linear_4, self.linear_5, self.linear_6]:\n",
    "            nn.init.uniform_(layer.weight, a = 0.0, b=0.1)\n",
    "\n",
    "    def forward(self, I_ref):\n",
    "        I_sq = I_ref**2\n",
    "\n",
    "        out1 = self.linear_1(I_ref)\n",
    "        out2 = activation_exp(self.linear_2(I_ref))\n",
    "        out3 = activation_ln(self.linear_3(I_ref))\n",
    "\n",
    "        out4 = self.lienar_4(I_sq)\n",
    "        out5 = activation_exp(self.linear_5(I_sq))\n",
    "        out6 = activation_ln(self.linear_6(I_sq))\n",
    "\n",
    "        return torch.cat([out1, out2, out3, out4, out5, out6], dim = 1)"
   ]
  },
  {
   "cell_type": "code",
   "execution_count": 27,
   "id": "fafd2ade-ca4d-40ea-936f-852cfb5b11f3",
   "metadata": {},
   "outputs": [],
   "source": [
    "class StrainEneergyCANNInvariant(nn.Module):\n",
    "    def __init__(self):\n",
    "        super(StrainEnergyCANNInvariant, self).__init__()\n",
    "        \n",
    "        self.single_invent_I1 = SingleInvNet()\n",
    "        self.single_invent_I2 = SingleInvNet()\n",
    "\n",
    "        self.final_layer = nn.Linear(12, 1, bias = False) # combined 6 features from each block into one model\n",
    "        nn.init.xavier_normal_(slef.final_layer.weight)\n",
    "\n",
    "    def forward(self, I1, I2):\n",
    "        I1_ref = I1 - 3.0\n",
    "        I2_ref = I2 - 3.0\n",
    "\n",
    "        out_I1 = self.single_invent_I1(I1_ref) # first batch of 6 \n",
    "        out_I2 = self.single_invent_I2(I2_ref) # secong batch of 6\n",
    "\n",
    "        combined = torch.cat([out_I1, out_I2], dim = 1)\n",
    "\n",
    "        #compute strain energy \n",
    "        psi = self.final_layer(combined) \n",
    "        return psi"
   ]
  },
  {
   "cell_type": "code",
   "execution_count": 30,
   "id": "b4cd89ad-72bc-4370-a830-b20e9ddb5c0f",
   "metadata": {},
   "outputs": [],
   "source": [
    "# next part computes stress from the strain energy psi\n",
    "# it looks like they are using uniaxial tension/compression\n",
    "# lamda in this case comes from the expiremental data that was loaded"
   ]
  },
  {
   "cell_type": "code",
   "execution_count": 31,
   "id": "24313ea6-7d09-41cc-bbde-7f417fccb202",
   "metadata": {},
   "outputs": [],
   "source": [
    "# I1 = lambda^2 + 2*lambda^-1 \n",
    "# I2 = 2*lambda + lambda^-2\n",
    "# der_I1 = 2*lambda - 2*lambda^-2\n",
    "# der_u2 = 2 - 2*lambda^-3"
   ]
  },
  {
   "cell_type": "code",
   "execution_count": 32,
   "id": "80f0d394-8529-4952-a2d3-c470a7dda80e",
   "metadata": {},
   "outputs": [],
   "source": [
    "#imputs are derivative of psi over I1, derivative of psi over I2, lambda\n",
    "def Stress_calc_TC(inputs):\n",
    "    (dPsidI1, dPsidI2, Stretch) = inputs\n",
    "    minus = 2 * (dPsidI1 / Stretch**2 + dPsidI2 / Stretch**3)\n",
    "    stress = 2 * (dPsidI1 * Stretch + dPsidI2) - minus\n",
    "    return stress"
   ]
  },
  {
   "cell_type": "code",
   "execution_count": 33,
   "id": "c9f7da0e-af85-439e-af21-64e3590be258",
   "metadata": {},
   "outputs": [],
   "source": [
    "def Stress_cal_SS(inputs):\n",
    "    (dPsidI1, dPsidI2, gamma) = inputs\n",
    "    stress = 2 * gamma * (dPsidI1 + dPsidI2)\n",
    "    return stress"
   ]
  },
  {
   "cell_type": "code",
   "execution_count": 34,
   "id": "777a12ec-cb91-42c8-9694-088408ee091e",
   "metadata": {},
   "outputs": [],
   "source": [
    "# calculates the gradient where a is psi and b is either I1 or I2"
   ]
  },
  {
   "cell_type": "code",
   "execution_count": 36,
   "id": "ecc62b50-8b15-45a4-a49f-b0c8f8a51a5e",
   "metadata": {},
   "outputs": [],
   "source": [
    "def myGradients(a, b):\n",
    "    return torch.autograd.grad(a, b, grad_outputs = torch.ones_like(a),\n",
    "                               retain_graph=True, create_graph = True)[0]\n"
   ]
  },
  {
   "cell_type": "code",
   "execution_count": 37,
   "id": "6c62a5ed-eac9-4801-8289-0d7cd0ae5715",
   "metadata": {},
   "outputs": [],
   "source": [
    "# in the following calculation, keep in mind that stretch and shear comes from the expiremental data"
   ]
  },
  {
   "cell_type": "code",
   "execution_count": null,
   "id": "f4885ae5-75d0-4a1b-8c83-870f139dac6e",
   "metadata": {},
   "outputs": [],
   "source": [
    "class StressModelAcrhitecture(nn.Module):\n",
    "    def __init__(self, psi_model):\n",
    "        super(StressModelArchitecture, self).__init__()\n",
    "        self.psi_midel = psi_model # from the StrainENERGYCANNInvariant \n",
    "\n",
    "    def compute_invariants_ut(self, stretch):\n",
    "        I1 = stretch**2 + 2.0 / stretch\n",
    "        I2 = 2.0 * stretch + 1.0 / stretch**2\n",
    "        return I1, I2\n",
    "\n",
    "    def compute_invariants_ss(self, gamma):\n",
    "        I1 = gamma**2 + 3.0\n",
    "        I2 = gamma**2 + 3.0\n",
    "        return I1, I2\n",
    "\n",
    "    def forward(self, stretch, gamma):\n",
    "        I1_ut, I2_ut = self.compute_invaraints_ut(stretch)\n",
    "        I1_ut.requires_grad_(True)\n",
    "        I2_ut.requires_grad_(True)\n",
    "\n",
    "        psi_ut = self.psi_model(I1_ut, I2_ut)\n",
    "        dpsi_dI1_ut = torch.autograd.grad(psi_ut, I1_ut, grad_outputs=torch.ones_like(psi_ut), create_graph=True)[0]\n",
    "        dpsi_dI2_ut = torch.autograd.grad(psi_ut, I2_ut, grad_outputs=torch.ones_like(psi_ut), create_graph=True)[0]\n",
    "        stress_ut = 2 * (dpsi_dI1_ut * stretch + dpsi_dI2_ut) - 2 * (dpsi_dI1_ut / stretch**2 + dpsi_dI2_ut / stretch**3)\n",
    "\n",
    "\n",
    "        I1_ss, I2_ss = self.compute_invariants_ss(gamma)\n",
    "        I1_ss.requires_grad_(True)\n",
    "        I2_ss.requires_grad_(True)\n",
    "\n",
    "        psi_ss = self.psi_model(I1_ss, I2_ss)\n",
    "        dpsi_dI1_ss = torch.autograd.grad(psi_ss, I1_ss, grad_outputs=torch.ones_like(psi_ss), create_graph=True)[0]\n",
    "        dpsi_dI2_ss = torch.autograd.grad(psi_ss, I2_ss, grad_outputs=torch.ones_like(psi_ss), create_graph=True)[0]\n",
    "        stress_ss = 2 * gamma * (dpsi_dI1_ss + dpsi_dI2_ss)\n",
    "\n",
    "        return stress_ut, stress_ss"
   ]
  }
 ],
 "metadata": {
  "kernelspec": {
   "display_name": "Python 3 (ipykernel)",
   "language": "python",
   "name": "python3"
  },
  "language_info": {
   "codemirror_mode": {
    "name": "ipython",
    "version": 3
   },
   "file_extension": ".py",
   "mimetype": "text/x-python",
   "name": "python",
   "nbconvert_exporter": "python",
   "pygments_lexer": "ipython3",
   "version": "3.12.3"
  }
 },
 "nbformat": 4,
 "nbformat_minor": 5
}
