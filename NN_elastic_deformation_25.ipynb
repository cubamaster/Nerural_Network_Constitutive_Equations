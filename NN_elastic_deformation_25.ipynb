{
 "cells": [
  {
   "cell_type": "code",
   "execution_count": 1,
   "id": "e3c3606a-3f94-4a29-8e0f-b6deb70a6ac5",
   "metadata": {},
   "outputs": [],
   "source": [
    "import torch\n",
    "import torch.nn as nn\n",
    "import numpy as np\n",
    "import matplotlib.pyplot as plt"
   ]
  },
  {
   "cell_type": "code",
   "execution_count": 2,
   "id": "181e7fbd-06ba-46fa-91d0-979769fa58f7",
   "metadata": {},
   "outputs": [],
   "source": [
    "L, W = 1.0, 0.5  # Length and width of the domain (in cm)\n",
    "lambda_ = 5.0e9   # Elastic constant (Pa)\n",
    "mu = 5.0e9         # Shear modulus (Pa)\n",
    "h = 1.0          # Thickness (cm)"
   ]
  },
  {
   "cell_type": "code",
   "execution_count": 3,
   "id": "0e33e1d4-9b51-4c24-bbff-1b43375fb73d",
   "metadata": {},
   "outputs": [],
   "source": [
    "class PINN(nn.Module):\n",
    "    def __init__(self):\n",
    "        super(PINN, self).__init__()\n",
    "        self.net = nn.Sequential(\n",
    "            nn.Linear(2, 128),\n",
    "            nn.Tanh(),\n",
    "            nn.Linear(128, 128),\n",
    "            nn.Tanh(),\n",
    "            nn.Linear(128, 128),\n",
    "            nn.Tanh(),\n",
    "            nn.Linear(128, 2)\n",
    "        )\n",
    "\n",
    "    def forward(self, x, y):\n",
    "        inputs = torch.cat([x, y], dim=1)\n",
    "        return self.net(inputs)"
   ]
  },
  {
   "cell_type": "code",
   "execution_count": 4,
   "id": "561c895f-668d-473a-ae58-df22fe2bb33a",
   "metadata": {},
   "outputs": [],
   "source": [
    "def strain_tensor(u_x, u_y, x, y):\n",
    "    u_x_x = torch.autograd.grad(u_x, x, grad_outputs=torch.ones_like(u_x), retain_graph=True, create_graph=True)[0]\n",
    "    u_y_y = torch.autograd.grad(u_y, y, grad_outputs=torch.ones_like(u_y), retain_graph=True, create_graph=True, allow_unused=True)[0]\n",
    "    u_x_y = torch.autograd.grad(u_x, y, grad_outputs=torch.ones_like(u_x), retain_graph=True, create_graph=True)[0]\n",
    "    u_y_x = torch.autograd.grad(u_y, x, grad_outputs=torch.ones_like(u_y), retain_graph=True, create_graph=True)[0]\n",
    "\n",
    "    E_xx = u_x_x\n",
    "    E_yy = u_y_y\n",
    "    E_xy = 0.5 * (u_x_y + u_y_x)\n",
    "    return E_xx, E_yy, E_xy"
   ]
  },
  {
   "cell_type": "code",
   "execution_count": 5,
   "id": "4b93b287-b084-443f-ac41-6accfaebf7dc",
   "metadata": {},
   "outputs": [],
   "source": [
    "def stress_tensor(E_xx, E_yy, E_xy):\n",
    "    scale_factor = 1e9  # Scaling factor for material constants\n",
    "    trace_E = E_xx + E_yy\n",
    "    sigma_xx = h * ((lambda_ / scale_factor) * trace_E + 2 * (mu / scale_factor) * E_xx)\n",
    "    sigma_yy = h * ((lambda_ / scale_factor) * trace_E + 2 * (mu / scale_factor) * E_yy)\n",
    "    sigma_xy = h * (2 * (mu / scale_factor) * E_xy)\n",
    "    return sigma_xx, sigma_yy, sigma_xy"
   ]
  },
  {
   "cell_type": "code",
   "execution_count": 6,
   "id": "a208f476-1550-4711-9b88-aca920d8a351",
   "metadata": {},
   "outputs": [],
   "source": [
    "def physics_loss(model, x, y):\n",
    "    x.requires_grad_(True)\n",
    "    y.requires_grad_(True)\n",
    "    u = model(x, y)\n",
    "    u_x, u_y = u[:, 0:1], u[:, 1:2]\n",
    "\n",
    "    E_xx, E_yy, E_xy = strain_tensor(u_x, u_y, x, y)\n",
    "    sigma_xx, sigma_yy, sigma_xy = stress_tensor(E_xx, E_yy, E_xy)\n",
    "\n",
    "    sigma_xx_x = torch.autograd.grad(sigma_xx, x, grad_outputs=torch.ones_like(sigma_xx), retain_graph=True, create_graph=True)[0]\n",
    "    sigma_xy_y = torch.autograd.grad(sigma_xy, y, grad_outputs=torch.ones_like(sigma_xy), retain_graph=True, create_graph=True)[0]\n",
    "    sigma_yy_y = torch.autograd.grad(sigma_yy, y, grad_outputs=torch.ones_like(sigma_yy), retain_graph=True, create_graph=True)[0]\n",
    "    sigma_xy_x = torch.autograd.grad(sigma_xy, x, grad_outputs=torch.ones_like(sigma_xy), retain_graph=True, create_graph=True)[0]\n",
    "\n",
    "    residual_x = sigma_xx_x + sigma_xy_y\n",
    "    residual_y = sigma_yy_y + sigma_xy_x\n",
    "\n",
    "    loss_equilibrium = torch.mean(residual_x**2 + residual_y**2)\n",
    "    return loss_equilibrium"
   ]
  },
  {
   "cell_type": "code",
   "execution_count": 7,
   "id": "0eadf39c-ef2f-4ae8-815a-928779a977f4",
   "metadata": {},
   "outputs": [],
   "source": [
    "def boundary_condition_loss(model, L, W):\n",
    "    # Boundary A: u_x = 0, u_y = 0 at x = -L/2\n",
    "    y_A = torch.linspace(-W / 2, W / 2, 100).reshape(-1, 1).requires_grad_()\n",
    "    u_A = model(-L / 2 * torch.ones_like(y_A, requires_grad=True), y_A)\n",
    "    loss_A = torch.mean(u_A**2)\n",
    "\n",
    "    # Boundary D: u_x = 0.025 * L, u_y = 0 at x = L/2\n",
    "    y_D = torch.linspace(-W / 2, W / 2, 100).reshape(-1, 1).requires_grad_()\n",
    "    u_D = model(L / 2 * torch.ones_like(y_D, requires_grad=True), y_D)\n",
    "    loss_D = torch.mean((u_D[:, 1:2]**2) + (u_D[:, 0:1] - 0.025 * L)**2)\n",
    "\n",
    "    # Boundary B: traction-free (σ_xx = σ_xy = 0) at y = W/2\n",
    "    x_B = torch.linspace(-L / 2, L / 2, 100).reshape(-1, 1).requires_grad_()\n",
    "    y_B = W / 2 * torch.ones_like(x_B, requires_grad=True)\n",
    "    u_B = model(x_B, y_B)\n",
    "    u_B_x, u_B_y = u_B[:, 0:1], u_B[:, 1:2]\n",
    "    E_xx_B, E_yy_B, E_xy_B = strain_tensor(u_B_x, u_B_y, x_B, y_B)\n",
    "    sigma_xx_B, sigma_yy_B, sigma_xy_B = stress_tensor(E_xx_B, E_yy_B, E_xy_B)\n",
    "    loss_B = torch.mean(sigma_xx_B**2 + sigma_xy_B**2)\n",
    "\n",
    "    # Boundary C: traction-free (σ_xx = σ_xy = 0) at y = -W/2\n",
    "    x_C = torch.linspace(-L / 2, L / 2, 100).reshape(-1, 1).requires_grad_()\n",
    "    y_C = -W / 2 * torch.ones_like(x_C, requires_grad=True)\n",
    "    u_C = model(x_C, y_C)\n",
    "    u_C_x, u_C_y = u_C[:, 0:1], u_C[:, 1:2]\n",
    "    E_xx_C, E_yy_C, E_xy_C = strain_tensor(u_C_x, u_C_y, x_C, y_C)\n",
    "    sigma_xx_C, sigma_yy_C, sigma_xy_C = stress_tensor(E_xx_C, E_yy_C, E_xy_C)\n",
    "    loss_C = torch.mean(sigma_xx_C**2 + sigma_xy_C**2)\n",
    "\n",
    "    return loss_A + loss_D + loss_B + loss_C"
   ]
  },
  {
   "cell_type": "code",
   "execution_count": 8,
   "id": "646e2c36-4bbd-4006-9ccc-36f89d15c670",
   "metadata": {},
   "outputs": [],
   "source": [
    "def train_pinn(model, optimizer, n_epochs, n_points, L, W):\n",
    "    loss_history = []\n",
    "\n",
    "    for epoch in range(n_epochs):\n",
    "        # Sample points inside the domain\n",
    "        x = torch.rand((n_points, 1)) * L - L / 2 # make kinda of mesh of xy xy and \n",
    "        y = torch.rand((n_points, 1)) * W - W / 2\n",
    "\n",
    "        loss_pde = physics_loss(model, x, y)\n",
    "        loss_bc = boundary_condition_loss(model, L, W)\n",
    "        loss = loss_pde + loss_bc\n",
    "\n",
    "        optimizer.zero_grad()\n",
    "        loss.backward()\n",
    "        optimizer.step()\n",
    "\n",
    "        loss_history.append(loss.item())\n",
    "\n",
    "        if epoch % 500 == 0:\n",
    "            print(f\"Epoch {epoch}, Loss: {loss.item():.6f}\")\n",
    "\n",
    "    return loss_history"
   ]
  },
  {
   "cell_type": "code",
   "execution_count": 9,
   "id": "9dadc0d1-0141-497a-b781-2357697713ed",
   "metadata": {},
   "outputs": [
    {
     "name": "stdout",
     "output_type": "stream",
     "text": [
      "Epoch 0, Loss: 0.449834\n",
      "Epoch 500, Loss: 0.000170\n",
      "Epoch 1000, Loss: 0.000111\n",
      "Epoch 1500, Loss: 0.000101\n",
      "Epoch 2000, Loss: 0.000099\n",
      "Epoch 2500, Loss: 0.000097\n",
      "Epoch 3000, Loss: 0.000096\n",
      "Epoch 3500, Loss: 0.000096\n",
      "Epoch 4000, Loss: 0.000097\n",
      "Epoch 4500, Loss: 0.000096\n",
      "Epoch 5000, Loss: 0.000095\n",
      "Epoch 5500, Loss: 0.000094\n",
      "Epoch 6000, Loss: 0.000119\n",
      "Epoch 6500, Loss: 0.000482\n",
      "Epoch 7000, Loss: 0.000298\n",
      "Epoch 7500, Loss: 0.000247\n",
      "Epoch 8000, Loss: 0.000206\n",
      "Epoch 8500, Loss: 0.000167\n",
      "Epoch 9000, Loss: 0.000131\n",
      "Epoch 9500, Loss: 0.000107\n"
     ]
    }
   ],
   "source": [
    "# Initialize model and optimizer\n",
    "model = PINN()\n",
    "optimizer = torch.optim.Adam(model.parameters(), lr=0.001)\n",
    "\n",
    "# Train the model\n",
    "n_epochs = 10000\n",
    "n_points = 1000\n",
    "loss_history = train_pinn(model, optimizer, n_epochs, n_points, L, W)\n"
   ]
  },
  {
   "cell_type": "code",
   "execution_count": 25,
   "id": "2afb79f1-97d2-48a1-9e5b-ee09b3aeb30b",
   "metadata": {},
   "outputs": [],
   "source": [
    "import pandas as pd"
   ]
  },
  {
   "cell_type": "code",
   "execution_count": 26,
   "id": "887a0a0c-199d-49c0-a067-f5f40bd168c2",
   "metadata": {},
   "outputs": [],
   "source": [
    "file_path = '/Users/murat/Downloads/data.csv'  # Update this with the correct path\n",
    "comparison_data = pd.read_csv(file_path)"
   ]
  },
  {
   "cell_type": "code",
   "execution_count": 27,
   "id": "39d198ea-be36-4a43-9414-c72a704ed5bc",
   "metadata": {},
   "outputs": [],
   "source": [
    "x_values = torch.tensor(comparison_data['X'].values, dtype=torch.float32).reshape(-1, 1)\n",
    "y_values = torch.tensor(comparison_data['Y'].values, dtype=torch.float32).reshape(-1, 1)\n",
    "u_x_actual = comparison_data['u_x_actual'].values\n",
    "u_y_actual = comparison_data['u_y_actual'].values"
   ]
  },
  {
   "cell_type": "code",
   "execution_count": 28,
   "id": "cbc9d85f-6036-4574-af62-54ee17c4bd59",
   "metadata": {},
   "outputs": [],
   "source": [
    "model.eval()\n",
    "with torch.no_grad():\n",
    "    u_pred = model(x_values, y_values) \n",
    "    u_x_pred = u_pred[:, 0].reshape(-1).numpy()\n",
    "    u_y_pred = u_pred[:, 1].reshape(-1).numpy()"
   ]
  },
  {
   "cell_type": "code",
   "execution_count": 29,
   "id": "4ad8dd91-58c6-4082-b968-26bfe14573cd",
   "metadata": {},
   "outputs": [],
   "source": [
    "comparison_data['u_x_pred'] = u_x_pred\n",
    "comparison_data['u_y_pred'] = u_y_pred"
   ]
  },
  {
   "cell_type": "code",
   "execution_count": 30,
   "id": "ea552258-7b20-441a-bae9-899ab8cb06ed",
   "metadata": {},
   "outputs": [],
   "source": [
    "comparison_data['error_u_x'] = abs(comparison_data['u_x_actual'] - comparison_data['u_x_pred'])\n",
    "comparison_data['error_u_y'] = abs(comparison_data['u_y_actual'] - comparison_data['u_y_pred'])\n",
    "comparison_data['percent_error_u_x'] = (comparison_data['u_x_actual'] - comparison_data['u_x_pred']) / comparison_data['u_x_actual'] * 100\n",
    "comparison_data['percent_error_u_y'] = (comparison_data['u_y_actual'] - comparison_data['u_y_pred']) / comparison_data['u_y_actual'] * 100\n"
   ]
  },
  {
   "cell_type": "code",
   "execution_count": 31,
   "id": "3ea09621-bd1e-4c17-bd6d-4a9eee9dd336",
   "metadata": {},
   "outputs": [
    {
     "name": "stdout",
     "output_type": "stream",
     "text": [
      "         X     Y    u_x_actual    u_y_actual  u_x_pred  u_y_pred  error_u_x  \\\n",
      "0    -0.50 -0.25  1.483633e-19  1.263433e-19  0.008686  0.008909   0.008686   \n",
      "1    -0.48 -0.25  9.101041e-04  9.363998e-04  0.008921  0.008914   0.008011   \n",
      "2    -0.50 -0.23 -1.530000e-20 -4.190000e-20  0.008684  0.008203   0.008684   \n",
      "3    -0.48 -0.23  5.332043e-04  6.506182e-04  0.008920  0.008207   0.008387   \n",
      "4    -0.50 -0.21  2.321675e-21 -6.630000e-21  0.008683  0.007497   0.008683   \n",
      "...    ...   ...           ...           ...       ...       ...        ...   \n",
      "1321  0.48  0.23  2.446680e-02 -6.510000e-04  0.020442 -0.008264   0.004025   \n",
      "1322  0.50  0.21  2.500000e-02  3.680167e-18  0.020679 -0.007551   0.004321   \n",
      "1323  0.48  0.25  2.408990e-02 -9.360000e-04  0.020444 -0.008978   0.003646   \n",
      "1324  0.50  0.23  2.500000e-02  1.768693e-18  0.020680 -0.008265   0.004320   \n",
      "1325  0.50  0.25  2.500000e-02  2.080774e-17  0.020682 -0.008978   0.004318   \n",
      "\n",
      "      error_u_y  percent_error_u_x  percent_error_u_y  \n",
      "0      0.008909      -5.854526e+18      -7.051673e+18  \n",
      "1      0.007977      -8.802631e+02      -8.519006e+02  \n",
      "2      0.008203       5.676081e+19       1.957789e+19  \n",
      "3      0.007556      -1.572891e+03      -1.161374e+03  \n",
      "4      0.007497      -3.740084e+20       1.130749e+20  \n",
      "...         ...                ...                ...  \n",
      "1321   0.007613       1.644948e+01      -1.169397e+03  \n",
      "1322   0.007551       1.728537e+01       2.051778e+17  \n",
      "1323   0.008042       1.513568e+01      -8.591528e+02  \n",
      "1324   0.008265       1.727874e+01       4.672690e+17  \n",
      "1325   0.008978       1.727258e+01       4.314827e+16  \n",
      "\n",
      "[1326 rows x 10 columns]\n"
     ]
    }
   ],
   "source": [
    "print(comparison_data)"
   ]
  },
  {
   "cell_type": "code",
   "execution_count": 24,
   "id": "f415d15b-abb0-4153-b9c8-eef4d21a60e9",
   "metadata": {},
   "outputs": [],
   "source": [
    "comparison_data.to_csv('/Users/murat/Downloads/comparison_results.csv', index=False)"
   ]
  },
  {
   "cell_type": "code",
   "execution_count": null,
   "id": "9176ff2e-483f-4c60-a26c-eac2caa7e99e",
   "metadata": {},
   "outputs": [],
   "source": []
  }
 ],
 "metadata": {
  "kernelspec": {
   "display_name": "Python 3 (ipykernel)",
   "language": "python",
   "name": "python3"
  },
  "language_info": {
   "codemirror_mode": {
    "name": "ipython",
    "version": 3
   },
   "file_extension": ".py",
   "mimetype": "text/x-python",
   "name": "python",
   "nbconvert_exporter": "python",
   "pygments_lexer": "ipython3",
   "version": "3.12.3"
  }
 },
 "nbformat": 4,
 "nbformat_minor": 5
}
