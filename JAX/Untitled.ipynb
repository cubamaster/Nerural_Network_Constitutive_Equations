{
 "cells": [
  {
   "cell_type": "code",
   "execution_count": 6,
   "id": "4996d7b2-9e3b-4735-8d5d-e2f066a1375b",
   "metadata": {},
   "outputs": [],
   "source": [
    "import jax.numpy as jnp\n",
    "from jax import grad"
   ]
  },
  {
   "cell_type": "code",
   "execution_count": 7,
   "id": "c53ef839-bbf6-4277-af91-b7c030be1091",
   "metadata": {},
   "outputs": [],
   "source": [
    "# Create a 3x3 F matrix\n",
    "def F(x, y, z):\n",
    "    return jnp.array([\n",
    "        [x**2, y, z],   # row 1\n",
    "        [3, 2*y, 0],    # row 2\n",
    "        [y*z, x*z, x*y] # row 3\n",
    "    ])"
   ]
  },
  {
   "cell_type": "code",
   "execution_count": 10,
   "id": "13ba3608-9e8e-4e80-b807-d32ebb89147a",
   "metadata": {},
   "outputs": [],
   "source": [
    "def divergence_matrix(x, y, z):\n",
    "    result = []\n",
    "    for i in range(F(x, y, z).ndim):\n",
    "\n",
    "        F1 = lambda x: F(x, y, z)[i, 0]\n",
    "        F2 = lambda x: F(x, y, z)[i, 1]\n",
    "        F3 = lambda x: F(x, y, z)[i, 2]\n",
    "\n",
    "        dF_dx = grad(F1)(x)\n",
    "        dF_dy = grad(F2)(x)\n",
    "        dF_dz = grad(F3)(z)\n",
    "\n",
    "        result.append(dF_dx + dF_dy + dF_dz)\n",
    "    return jnp.array(result)"
   ]
  },
  {
   "cell_type": "code",
   "execution_count": 11,
   "id": "3b178bdd-775e-4b67-b3fe-2f647aadc162",
   "metadata": {},
   "outputs": [
    {
     "name": "stdout",
     "output_type": "stream",
     "text": [
      "[2. 0.]\n"
     ]
    }
   ],
   "source": [
    "print(divergence_matrix(1.0, 1.0, 1.0))"
   ]
  },
  {
   "cell_type": "code",
   "execution_count": null,
   "id": "d4112b9b-041a-464c-868b-60aae78a8ab5",
   "metadata": {},
   "outputs": [],
   "source": []
  },
  {
   "cell_type": "code",
   "execution_count": null,
   "id": "24c780d5-5e94-4dca-8e69-4bff3c97a810",
   "metadata": {},
   "outputs": [],
   "source": []
  }
 ],
 "metadata": {
  "kernelspec": {
   "display_name": "Python 3 (ipykernel)",
   "language": "python",
   "name": "python3"
  },
  "language_info": {
   "codemirror_mode": {
    "name": "ipython",
    "version": 3
   },
   "file_extension": ".py",
   "mimetype": "text/x-python",
   "name": "python",
   "nbconvert_exporter": "python",
   "pygments_lexer": "ipython3",
   "version": "3.12.3"
  }
 },
 "nbformat": 4,
 "nbformat_minor": 5
}
